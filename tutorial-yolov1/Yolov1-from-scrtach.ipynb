{
 "cells": [
  {
   "cell_type": "code",
   "execution_count": 6,
   "metadata": {},
   "outputs": [],
   "source": [
    "import torch\n",
    "import torch.nn as nn\n",
    "import torch.optim as optim\n",
    "import torchvision\n",
    "from torchvision import datasets, models, transforms"
   ]
  },
  {
   "cell_type": "markdown",
   "metadata": {},
   "source": [
    "## Arhictecture of YOLO-v1"
   ]
  },
  {
   "cell_type": "markdown",
   "metadata": {},
   "source": [
    "![Alt text](images/Yolov1_arch.png)"
   ]
  },
  {
   "cell_type": "code",
   "execution_count": 7,
   "metadata": {},
   "outputs": [
    {
     "name": "stdout",
     "output_type": "stream",
     "text": [
      "cuda\n"
     ]
    }
   ],
   "source": [
    "device = torch.device('cuda' if torch.cuda.is_available() else 'cpu')\n",
    "print(device)"
   ]
  },
  {
   "cell_type": "code",
   "execution_count": null,
   "metadata": {},
   "outputs": [],
   "source": [
    "class YOLOv1(nn.module):\n",
    "    \n",
    "    def __init__(self, image_channels, num_classes):\n",
    "        super(YOLOv1, self).__init__()\n",
    "        \n",
    "        \n",
    "        self.conv1 = nn.conv2d(image_channels, 64, kernel_size=7, stride=2, padding=3) \n",
    "        self.maxpool = nn.MaxPool2d(kernel_size=2, stride=2, padding=0)\n",
    "        \n",
    "        self.conv2 = nn.conv2d(64, 192, kernel_size=3, stride=1, padding=1)\n",
    "        \n",
    "        self.conv3 = nn.conv2d(192, 128, kernel_size=1, stride=1, padding=0)\n",
    "        self.conv4 = nn.conv2d(128, 256, kernel_size=3, stride=1, padding=1)\n",
    "        self.conv5 = nn.conv2d(256, 256, kernel_size=1, stride=1, paading=0)\n",
    "        self.conv6 = nn.conv2d(256, 512, kernel_size=3, stride=1, padding=1)\n",
    "        \n",
    "        self.conv7 = nn.conv2d(512, 256, kernel_size=1, stride=1, padding=0)\n",
    "        self.conv8 = nn.conv2d(256, 512, kernel_size=3, stride=1, padding=1)\n",
    "        self.conv9 = nn.conv2d(512, 256, kernel_size=1, stride=1, padding=0)\n",
    "        self.conv10 = nn.conv2d(256, 512, kernel_size=3, stride=1, padding=1)\n",
    "        self.conv11 = nn.conv2d(512, 256, kernel_size=1, stride=1, padding=0)\n",
    "        self.conv12 = nn.conv2d(256, 512, kernel_size=3, stride=1, padding=1)\n",
    "        self.conv13 = nn.conv2d(512, 256, kernel_size=1, stride=1, padding=0)\n",
    "        self.conv14 = nn.conv2d(256, 512, kernel_size=3, stride=1, padding=1)\n",
    "        self.conv15 = nn.conv2d(512, 512, kernel_size=1, stride=1, padding=0)\n",
    "        self.conv16 = nn.conv2d(512, 1024, kernel_size=3, stride=1, padding=1)\n",
    "        \n",
    "        self.conv17 = nn.conv2d(1024, 512, kernel_size=1, stride=1, padding=0)\n",
    "        self.conv18 = nn.conv2d(512, 1024, kernel_size=3, stride=1, padding=1)\n",
    "        self.conv19 = nn.conv2d(1024, 512, kernel_size=1, stride=1, padding=0)\n",
    "        self.conv20 = nn.conv2d(512, 1024, kernel_size=3, stride=1, padding=1)\n",
    "        self.conv21 = nn.conv2d(1024, 1024, kernel_size=3, stride=1, padding=1)\n",
    "        self.conv22 = nn.conv2d(1024, 1024, kernel_size=3, stride=2, padding=1)\n",
    "        \n",
    "        self.conv23 = nn.conv2d(1024, 1024, kernel_size=3, stride=1, padding=1)\n",
    "        self.conv24 = nn.conv2d(1024, 1024, kernel_size=3, stride=1, padding=1)\n",
    "        \n",
    "        self.fc1 = nn.Linear(7*7*1024, 4096)\n",
    "        self.fc2 = nn.Linear(4096, num_classes)\n",
    "            \n",
    "    def forward(self, x):\n",
    "        \n",
    "        x = self.conv1(x)       # input: (448, 448, 3)    output: (224,224,64)\n",
    "        x = self.maxpool(x)     # input: (224, 224, 64)   output: (112, 112, 64)\n",
    "        \n",
    "        x = self.conv2(x)       # input: (112. 112, 64)   output: (112, 112, 192)\n",
    "        x = self.maxpool(x)     # input: (112, 112, 192)  output: (56, 56, 192)\n",
    "        \n",
    "        x = self.conv3(x)       # input: (56, 56, 192)    output: (56, 56, 128)\n",
    "        x = self.conv4(x)       # input: (56, 56, 128)    output: (56, 56, 256)\n",
    "        x = self.conv5(x)       # input: (56, 56, 256)    output: (56, 56, 256)     \n",
    "        x = self.conv6(x)       # input: (56, 56, 256)    output: (56, 56, 512)\n",
    "        x = self.maxxpool(x)    # input: (56, 56, 512)    output: (28, 28, 512)\n",
    "        \n",
    "        x = self.conv7(x)       # input: (28, 28, 512)    output: (28, 28, 256)\n",
    "        x = self.conv8(x)       # input: (28, 28, 256)    output: (28, 28, 512)\n",
    "        x = self.conv9(x)       # input: (28, 28, 512)    output: (28, 28, 256)\n",
    "        x = self.conv10(x)      # input: (28, 28, 256)    output: (28, 28, 512)\n",
    "        x = self.conv11(x)      # input: (28, 28, 512)    output: (28, 28, 256)\n",
    "        x = self.conv12(x)      # input: (28, 28, 256)    output: (28, 28, 512)\n",
    "        x = self.conv13(x)      # input: (28, 28, 512)    output: (28, 28, 256)\n",
    "        x = self.conv14(x)      # input: (28, 28, 256)    output: (28, 28, 512)\n",
    "        x = self.conv15(x)      # input: (28, 28, 512)    output: (28, 28, 512)    \n",
    "        x = self.conv16(x)      # input: (28, 28, 512)    output: (28, 28, 1024)\n",
    "        x = self.maxpool(x)     # input: (28, 28, 1024)   output: (14, 14, 1024)\n",
    "        \n",
    "        x = self.conv17(x)      # input: (14, 14, 1024)   output: (14, 14, 512)\n",
    "        x = self.conv18(x)      # input: (14, 14, 512)    output: (14, 14, 1024)\n",
    "        x = self.conv19(x)      # input: (14, 14, 1024)   output: (14, 14, 512)\n",
    "        x = self.conv20(x)      # input: (14, 14, 512)    output: (14, 14, 1024)\n",
    "        x = self.conv21(x)      # input: (14, 14, 1024)   output: (14, 14, 1024)\n",
    "        x = self.conv22(x)      # input: (14, 14, 1024)   output: (7, 7, 1024)\n",
    "        \n",
    "        x = self.conv23(x)      # input: (7, 7, 1024)     output: (7, 7, 1024)\n",
    "        x = self.conv24(x)      # input: (7, 7, 1024)     output: (7, 7, 1024)\n",
    "        \n",
    "        x = self.fc1(x)\n",
    "        x = self.fc2(x)\n",
    "        "
   ]
  }
 ],
 "metadata": {
  "kernelspec": {
   "display_name": "Python 3",
   "language": "python",
   "name": "python3"
  },
  "language_info": {
   "codemirror_mode": {
    "name": "ipython",
    "version": 3
   },
   "file_extension": ".py",
   "mimetype": "text/x-python",
   "name": "python",
   "nbconvert_exporter": "python",
   "pygments_lexer": "ipython3",
   "version": "3.7.7"
  }
 },
 "nbformat": 4,
 "nbformat_minor": 4
}
